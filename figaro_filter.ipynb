{
 "cells": [
  {
   "cell_type": "markdown",
   "id": "167ccdc5",
   "metadata": {},
   "source": [
    "We are first going to filter our data set using future\n"
   ]
  },
  {
   "cell_type": "code",
   "execution_count": 13,
   "id": "8a701c50",
   "metadata": {},
   "outputs": [],
   "source": [
    "\n",
    "\n",
    "import json\n",
    "import os\n",
    "import shutil\n",
    "import pandas as pd\n",
    "import numpy as np\n",
    "\n",
    "\n",
    "import glob\n",
    "from tqdm import tqdm\n",
    "\n",
    "import unidecode\n",
    "\n",
    "import subprocess\n",
    "import  tarfile\n",
    "from bs4 import BeautifulSoup\n",
    "import xml.etree.ElementTree as ET\n",
    "import ast\n",
    "import zipfile\n",
    "\n"
   ]
  },
  {
   "cell_type": "markdown",
   "id": "2aaecbb4",
   "metadata": {},
   "source": [
    "# Le Figaro\n"
   ]
  },
  {
   "cell_type": "markdown",
   "id": "3de6a34f",
   "metadata": {},
   "source": [
    "## Processing the data"
   ]
  },
  {
   "cell_type": "code",
   "execution_count": 4,
   "id": "3d686563",
   "metadata": {},
   "outputs": [],
   "source": [
    "os.makedirs('./filtered_files_future', exist_ok=True)\n",
    "\n",
    "# Parcourir tous les fichiers JSON dans le dossier et ses sous-dossiers\n",
    "for root, dirs, files in os.walk('./le_figaro'):\n",
    "    for file_name in files:\n",
    "        if file_name.endswith('.json'):\n",
    "            \n",
    "            # Charger le contenu du fichier JSON\n",
    "            with open(os.path.join(root, file_name), 'r') as json_file:\n",
    "                json_data = json.load(json_file)\n",
    "                \n",
    "                # Vérifier si le terme \"future\" est présent dans le fichier\n",
    "                if 'future' in json.dumps(json_data):\n",
    "                    \n",
    "                    # Copier le fichier dans le dossier filtré\n",
    "                    shutil.copyfile(os.path.join(root, file_name), os.path.join('./filtered_files_future', file_name))"
   ]
  },
  {
   "cell_type": "code",
   "execution_count": 7,
   "id": "6e3cf2e0",
   "metadata": {},
   "outputs": [
    {
     "name": "stderr",
     "output_type": "stream",
     "text": [
      "100%|██████████████████████████████████████| 9695/9695 [01:18<00:00, 123.82it/s]\n"
     ]
    }
   ],
   "source": [
    "if not os.path.exists(\"../data\"):\n",
    "    os.makedirs(\"../data\")\n",
    "\n",
    "# Get list of all articles\n",
    "every_article = glob.glob('./filtered_files_future/*.json')\n",
    "future_articles = pd.DataFrame(columns=[\"publication_date\", \"content\"])\n",
    "dates_fr = set()\n",
    "\n",
    "for article in tqdm(every_article):\n",
    "    date = article.split(\"/\")[-1][:10]\n",
    "    dates_fr.add(date)\n",
    "    with open(article, 'r') as f:\n",
    "        data = json.load(f)   \n",
    "        if \"future\" in unidecode.unidecode(str.lower(data[\"contentAsText\"][0])):\n",
    "            future_articles.loc[date] = {\"publication_date\" : date, \"content\":data[\"contentAsText\"][0]}\n",
    "        \n",
    "# Save data\n",
    "future_articles.to_csv(\"../data/future_articles_fr.csv\")\n",
    "\n",
    "# Save dates\n",
    "with open('../data/dates_fr.txt','w') as f:\n",
    "    f.write(str(dates_fr))"
   ]
  },
  {
   "cell_type": "markdown",
   "id": "3e453082",
   "metadata": {},
   "source": [
    "## Counting words \"future\" frequency in the corpus"
   ]
  },
  {
   "cell_type": "code",
   "execution_count": 14,
   "id": "aceeac7f",
   "metadata": {},
   "outputs": [
    {
     "name": "stdout",
     "output_type": "stream",
     "text": [
      "3336\n"
     ]
    }
   ],
   "source": [
    "from sklearn.preprocessing import PolynomialFeatures\n",
    "from sklearn.linear_model import LinearRegression\n",
    "\n",
    "\n",
    "df = pd.read_csv(\"/Users/bina/Documents/BA6/data/future_articles_fr.csv\")\n",
    "\n",
    "df['future_freq'] = df['content'].str.count('future')\n",
    "\n",
    "# Sum the raw frequency counts to get the total raw frequency count of the term \"future\" in the corpus\n",
    "future_freq = df['future_freq'].sum()\n",
    "\n",
    "# Print the total raw frequency count of the term \"future\" in the corpus\n",
    "print(future_freq)\n",
    "\n",
    "\n",
    "# Sum the raw frequency counts to get the total raw frequency count of the term \"future\" in the corpus\n",
    "total_freq = df['future_freq'].sum()\n",
    "\n",
    "# Create a numpy array of the raw frequency counts and use it as the `x` variable for the polynomial regression function\n",
    "x = np.array(df['future_freq']).reshape(-1, 1)\n",
    "\n",
    "# Create another numpy array of the corresponding document indices as the `y` variable for the polynomial regression function\n",
    "y = np.arange(len(df)).reshape(-1, 1)\n",
    "\n",
    "# Fit a polynomial regression model to the `x` and `y` variables\n",
    "poly = PolynomialFeatures(degree=2)\n",
    "x_poly = poly.fit_transform(x)\n",
    "model = LinearRegression()\n",
    "model.fit(x_poly, y)\n",
    "\n",
    "# Predict the future frequency count for a new document using the polynomial regression model\n",
    "new_doc_freq = 10  # example future frequency count for a new document\n",
    "new_doc_index = model.predict(poly.fit_transform([[new_doc_freq]]))\n",
    "\n"
   ]
  },
  {
   "cell_type": "code",
   "execution_count": 28,
   "id": "a26ee13c",
   "metadata": {},
   "outputs": [
    {
     "name": "stdout",
     "output_type": "stream",
     "text": [
      "Index(['Unnamed: 0', 'publication_date', 'content'], dtype='object')\n"
     ]
    }
   ],
   "source": [
    "print ( df.columns)"
   ]
  },
  {
   "cell_type": "code",
   "execution_count": 31,
   "id": "5aeb8185",
   "metadata": {},
   "outputs": [
    {
     "name": "stdout",
     "output_type": "stream",
     "text": [
      "3336\n"
     ]
    }
   ],
   "source": [
    "from sklearn.preprocessing import PolynomialFeatures\n",
    "from sklearn.linear_model import LinearRegression\n",
    "import pandas as pd\n",
    "import numpy as np\n",
    "\n",
    "# Load the data from the CSV file\n",
    "df = pd.read_csv(\"/Users/bina/Documents/BA6/data/future_articles_fr.csv\")\n",
    "\n",
    "# Extract the date information and create a list of dates\n",
    "dates = pd.to_datetime(df['publication_date'], format=\"%Y%m%d.m\").dt.date\n",
    "\n",
    "# Add the list of dates to the DataFrame as a new column\n",
    "df['publication_date'] = dates\n",
    "\n",
    "# Calculate the frequency count of the term \"future\"\n",
    "df['future_freq'] = df['content'].str.count('future')\n",
    "\n",
    "# Sum the raw frequency counts to get the total raw frequency count of the term \"future\" in the corpus\n",
    "future_freq = df['future_freq'].sum()\n",
    "\n",
    "# Print the total raw frequency count of the term \"future\" in the corpus\n",
    "print(future_freq)\n",
    "\n",
    "# Create a numpy array of the raw frequency counts and use it as the `x` variable for the polynomial regression function\n",
    "x = np.array(df['future_freq']).reshape(-1, 1)\n",
    "\n",
    "# Create another numpy array of the corresponding document indices as the `y` variable for the polynomial regression function\n",
    "y = np.arange(len(df)).reshape(-1, 1)\n",
    "\n",
    "# Fit a polynomial regression model to the `x` and `y` variables\n",
    "poly = PolynomialFeatures(degree=2)\n",
    "x_poly = poly.fit_transform(x)\n",
    "model = LinearRegression()\n",
    "model.fit(x_poly, y)\n",
    "\n",
    "# Predict the future frequency count for a new document using the polynomial regression model\n",
    "new_doc_freq = 10  # example future frequency count for a new document\n",
    "new_doc_index = model.predict(poly.fit_transform([[new_doc_freq]]))"
   ]
  },
  {
   "cell_type": "code",
   "execution_count": 25,
   "id": "b9112b67",
   "metadata": {},
   "outputs": [
    {
     "name": "stdout",
     "output_type": "stream",
     "text": [
      "date column not found in DataFrame\n"
     ]
    }
   ],
   "source": [
    "if 'date' in df.columns:\n",
    "    print(\"yes\")\n",
    "    # do something with the date column\n",
    "else:\n",
    "    print(\"date column not found in DataFrame\")\n"
   ]
  },
  {
   "cell_type": "code",
   "execution_count": 34,
   "id": "8fa35311",
   "metadata": {},
   "outputs": [
    {
     "data": {
      "image/png": "[encoded data removed]",
      "text/plain": [
       "<Figure size 640x480 with 1 Axes>"
      ]
     },
     "metadata": {},
     "output_type": "display_data"
    }
   ],
   "source": [
    "import matplotlib.pyplot as plt\n",
    "\n",
    "# Create a scatter plot with dates on the x-axis and future_freq on the y-axis\n",
    "plt.scatter(df['publication_date'], df['future_freq'], s=10)\n",
    "\n",
    "# Add labels and title\n",
    "plt.xlabel('Publication Date')\n",
    "plt.ylabel('Future Frequency')\n",
    "plt.title('Future Frequency over Time')\n",
    "\n",
    "# Show the plot\n",
    "plt.show()\n"
   ]
  },
  {
   "cell_type": "code",
   "execution_count": 35,
   "id": "68dc4b96",
   "metadata": {},
   "outputs": [
    {
     "data": {
      "image/png": "[encoded data removed]",
      "text/plain": [
       "<Figure size 640x480 with 1 Axes>"
      ]
     },
     "metadata": {},
     "output_type": "display_data"
    }
   ],
   "source": [
    "x_range = np.linspace(x.min(), x.max(), 100).reshape(-1, 1)\n",
    "x_range_poly = poly.fit_transform(x_range)\n",
    "y_range = model.predict(x_range_poly)\n",
    "\n",
    "# Plot the curve with dates on the x-axis\n",
    "fig, ax = plt.subplots()\n",
    "ax.plot(dates, x, 'o', label='Data')\n",
    "ax.plot(pd.to_datetime(y_range, unit='ns'), x_range, label='Fit')\n",
    "ax.axhline(y=new_doc_freq, color='r', linestyle='--', label='New Document Frequency')\n",
    "ax.set_xlabel('Publication Date')\n",
    "ax.set_ylabel('Future Frequency')\n",
    "ax.legend()\n",
    "plt.show()"
   ]
  },
  {
   "cell_type": "markdown",
   "id": "dbf15cbb",
   "metadata": {},
   "source": [
    "## Counting the frequency of \"le future est\" in the corpus "
   ]
  },
  {
   "cell_type": "code",
   "execution_count": null,
   "id": "702117a1",
   "metadata": {},
   "outputs": [
    {
     "name": "stderr",
     "output_type": "stream",
     "text": [
      "[nltk_data] Downloading package punkt to /Users/bina/nltk_data...\n",
      "[nltk_data]   Unzipping tokenizers/punkt.zip.\n"
     ]
    }
   ],
   "source": [
    "import nltk\n",
    "from nltk.text import Text\n",
    "nltk.download('punkt')\n",
    "\n",
    "# Load the corpus\n",
    "corpus_file = \"/Users/bina/Documents/BA6/data/future_articles_fr.csv\"\n",
    "with open(corpus_file, 'r', encoding='utf-8') as f:\n",
    "    corpus = f.read()\n",
    "\n",
    "# Tokenize the corpus\n",
    "tokens = nltk.word_tokenize(corpus)\n",
    "\n",
    "# Create a Text object\n",
    "text = Text(tokens)\n",
    "\n",
    "# Define the tri-gram to search for\n",
    "tri_gram = [\"le\", \"future\", \"est\"]\n",
    "\n",
    "# Define the time blocks\n",
    "time_blocks = [(1840, 1860), (1860, 1880), (1880, 1900), (1900, 1920)]\n",
    "\n",
    "# Loop over the time blocks and extract the top 5 most common word uses of the tri-gram in each block\n",
    "for start, end in time_blocks:\n",
    "    print(f\"Time block: {start}-{end}\")\n",
    "    filtered_text = [w for w in text if start <= int(w) <= end]\n",
    "    concordance = text.concordance_list(tri_gram, width=100)\n",
    "    freq_dist = nltk.FreqDist([c.line.strip() for c in concordance])\n",
    "    top_5 = freq_dist.most_common(5)\n",
    "    for use, count in top_5:\n",
    "        print(f\"{use}: {count}\")\n",
    "    print()"
   ]
  },
  {
   "cell_type": "code",
   "execution_count": null,
   "id": "9f30f410",
   "metadata": {},
   "outputs": [],
   "source": []
  }
 ],
 "metadata": {
  "kernelspec": {
   "display_name": "Python 3 (ipykernel)",
   "language": "python",
   "name": "python3"
  },
  "language_info": {
   "codemirror_mode": {
    "name": "ipython",
    "version": 3
   },
   "file_extension": ".py",
   "mimetype": "text/x-python",
   "name": "python",
   "nbconvert_exporter": "python",
   "pygments_lexer": "ipython3",
   "version": "3.9.13"
  }
 },
 "nbformat": 4,
 "nbformat_minor": 5
}
